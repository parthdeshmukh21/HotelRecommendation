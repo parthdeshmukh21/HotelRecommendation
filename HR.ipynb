{
 "metadata": {
  "language_info": {
   "codemirror_mode": {
    "name": "ipython",
    "version": 3
   },
   "file_extension": ".py",
   "mimetype": "text/x-python",
   "name": "python",
   "nbconvert_exporter": "python",
   "pygments_lexer": "ipython3",
   "version": "3.9.0-final"
  },
  "orig_nbformat": 2,
  "kernelspec": {
   "name": "python3",
   "display_name": "Python 3.9.0 64-bit",
   "metadata": {
    "interpreter": {
     "hash": "ac59ebe37160ed0dfa835113d9b8498d9f09ceb179beaac4002f036b9467c963"
    }
   }
  }
 },
 "nbformat": 4,
 "nbformat_minor": 2,
 "cells": [
  {
   "cell_type": "code",
   "execution_count": 13,
   "metadata": {},
   "outputs": [
    {
     "output_type": "stream",
     "name": "stdout",
     "text": [
      "Defaulting to user installation because normal site-packages is not writeable\n",
      "Requirement already satisfied: nltk in c:\\users\\asus\\appdata\\roaming\\python\\python39\\site-packages (3.5)\n",
      "Requirement already satisfied: regex in c:\\users\\asus\\appdata\\roaming\\python\\python39\\site-packages (from nltk) (2021.3.17)\n",
      "Requirement already satisfied: tqdm in c:\\users\\asus\\appdata\\roaming\\python\\python39\\site-packages (from nltk) (4.59.0)\n",
      "Requirement already satisfied: click in c:\\users\\asus\\appdata\\roaming\\python\\python39\\site-packages (from nltk) (7.1.2)\n",
      "Requirement already satisfied: joblib in c:\\users\\asus\\appdata\\roaming\\python\\python39\\site-packages (from nltk) (1.0.1)\n",
      "[nltk_data] Downloading package punkt to\n",
      "[nltk_data]     C:\\Users\\ASUS\\AppData\\Roaming\\nltk_data...\n",
      "[nltk_data]   Unzipping tokenizers\\punkt.zip.\n",
      "[nltk_data] Downloading package wordnet to\n",
      "[nltk_data]     C:\\Users\\ASUS\\AppData\\Roaming\\nltk_data...\n",
      "[nltk_data]   Package wordnet is already up-to-date!\n"
     ]
    }
   ],
   "source": [
    "#Importing all the necessary libraries\n",
    "\n",
    "!pip install nltk\n",
    "import nltk\n",
    "nltk.download('punkt')\n",
    "nltk.download(\"wordnet\")\n",
    "import numpy as np\n",
    "import pandas as pd\n",
    "from nltk.corpus import stopwords\n",
    "from nltk.tokenize import word_tokenize\n",
    "from nltk.stem.wordnet import WordNetLemmatizer\n",
    "from ast import literal_eval\n"
   ]
  },
  {
   "cell_type": "code",
   "execution_count": 2,
   "metadata": {},
   "outputs": [],
   "source": [
    "#Importing the dataset\n",
    "\n",
    "dataset = pd.read_csv(\"Hotel_Reviews.csv\")"
   ]
  },
  {
   "cell_type": "code",
   "execution_count": 3,
   "metadata": {},
   "outputs": [
    {
     "output_type": "execute_result",
     "data": {
      "text/plain": [
       "                                       Hotel_Address  \\\n",
       "0   s Gravesandestraat 55 Oost 1092 AA Amsterdam ...   \n",
       "1   s Gravesandestraat 55 Oost 1092 AA Amsterdam ...   \n",
       "2   s Gravesandestraat 55 Oost 1092 AA Amsterdam ...   \n",
       "3   s Gravesandestraat 55 Oost 1092 AA Amsterdam ...   \n",
       "4   s Gravesandestraat 55 Oost 1092 AA Amsterdam ...   \n",
       "\n",
       "   Additional_Number_of_Scoring Review_Date  Average_Score   Hotel_Name  \\\n",
       "0                           194    8/3/2017            7.7  Hotel Arena   \n",
       "1                           194    8/3/2017            7.7  Hotel Arena   \n",
       "2                           194   7/31/2017            7.7  Hotel Arena   \n",
       "3                           194   7/31/2017            7.7  Hotel Arena   \n",
       "4                           194   7/24/2017            7.7  Hotel Arena   \n",
       "\n",
       "  Reviewer_Nationality                                    Negative_Review  \\\n",
       "0              Russia    I am so angry that i made this post available...   \n",
       "1             Ireland                                         No Negative   \n",
       "2           Australia    Rooms are nice but for elderly a bit difficul...   \n",
       "3      United Kingdom    My room was dirty and I was afraid to walk ba...   \n",
       "4         New Zealand    You When I booked with your company on line y...   \n",
       "\n",
       "   Review_Total_Negative_Word_Counts  Total_Number_of_Reviews  \\\n",
       "0                                397                     1403   \n",
       "1                                  0                     1403   \n",
       "2                                 42                     1403   \n",
       "3                                210                     1403   \n",
       "4                                140                     1403   \n",
       "\n",
       "                                     Positive_Review  \\\n",
       "0   Only the park outside of the hotel was beauti...   \n",
       "1   No real complaints the hotel was great great ...   \n",
       "2   Location was good and staff were ok It is cut...   \n",
       "3   Great location in nice surroundings the bar a...   \n",
       "4    Amazing location and building Romantic setting    \n",
       "\n",
       "   Review_Total_Positive_Word_Counts  \\\n",
       "0                                 11   \n",
       "1                                105   \n",
       "2                                 21   \n",
       "3                                 26   \n",
       "4                                  8   \n",
       "\n",
       "   Total_Number_of_Reviews_Reviewer_Has_Given  Reviewer_Score  \\\n",
       "0                                           7             2.9   \n",
       "1                                           7             7.5   \n",
       "2                                           9             7.1   \n",
       "3                                           1             3.8   \n",
       "4                                           3             6.7   \n",
       "\n",
       "                                                Tags days_since_review  \\\n",
       "0  [' Leisure trip ', ' Couple ', ' Duplex Double...            0 days   \n",
       "1  [' Leisure trip ', ' Couple ', ' Duplex Double...            0 days   \n",
       "2  [' Leisure trip ', ' Family with young childre...            3 days   \n",
       "3  [' Leisure trip ', ' Solo traveler ', ' Duplex...            3 days   \n",
       "4  [' Leisure trip ', ' Couple ', ' Suite ', ' St...           10 days   \n",
       "\n",
       "         lat       lng  \n",
       "0  52.360576  4.915968  \n",
       "1  52.360576  4.915968  \n",
       "2  52.360576  4.915968  \n",
       "3  52.360576  4.915968  \n",
       "4  52.360576  4.915968  "
      ],
      "text/html": "<div>\n<style scoped>\n    .dataframe tbody tr th:only-of-type {\n        vertical-align: middle;\n    }\n\n    .dataframe tbody tr th {\n        vertical-align: top;\n    }\n\n    .dataframe thead th {\n        text-align: right;\n    }\n</style>\n<table border=\"1\" class=\"dataframe\">\n  <thead>\n    <tr style=\"text-align: right;\">\n      <th></th>\n      <th>Hotel_Address</th>\n      <th>Additional_Number_of_Scoring</th>\n      <th>Review_Date</th>\n      <th>Average_Score</th>\n      <th>Hotel_Name</th>\n      <th>Reviewer_Nationality</th>\n      <th>Negative_Review</th>\n      <th>Review_Total_Negative_Word_Counts</th>\n      <th>Total_Number_of_Reviews</th>\n      <th>Positive_Review</th>\n      <th>Review_Total_Positive_Word_Counts</th>\n      <th>Total_Number_of_Reviews_Reviewer_Has_Given</th>\n      <th>Reviewer_Score</th>\n      <th>Tags</th>\n      <th>days_since_review</th>\n      <th>lat</th>\n      <th>lng</th>\n    </tr>\n  </thead>\n  <tbody>\n    <tr>\n      <th>0</th>\n      <td>s Gravesandestraat 55 Oost 1092 AA Amsterdam ...</td>\n      <td>194</td>\n      <td>8/3/2017</td>\n      <td>7.7</td>\n      <td>Hotel Arena</td>\n      <td>Russia</td>\n      <td>I am so angry that i made this post available...</td>\n      <td>397</td>\n      <td>1403</td>\n      <td>Only the park outside of the hotel was beauti...</td>\n      <td>11</td>\n      <td>7</td>\n      <td>2.9</td>\n      <td>[' Leisure trip ', ' Couple ', ' Duplex Double...</td>\n      <td>0 days</td>\n      <td>52.360576</td>\n      <td>4.915968</td>\n    </tr>\n    <tr>\n      <th>1</th>\n      <td>s Gravesandestraat 55 Oost 1092 AA Amsterdam ...</td>\n      <td>194</td>\n      <td>8/3/2017</td>\n      <td>7.7</td>\n      <td>Hotel Arena</td>\n      <td>Ireland</td>\n      <td>No Negative</td>\n      <td>0</td>\n      <td>1403</td>\n      <td>No real complaints the hotel was great great ...</td>\n      <td>105</td>\n      <td>7</td>\n      <td>7.5</td>\n      <td>[' Leisure trip ', ' Couple ', ' Duplex Double...</td>\n      <td>0 days</td>\n      <td>52.360576</td>\n      <td>4.915968</td>\n    </tr>\n    <tr>\n      <th>2</th>\n      <td>s Gravesandestraat 55 Oost 1092 AA Amsterdam ...</td>\n      <td>194</td>\n      <td>7/31/2017</td>\n      <td>7.7</td>\n      <td>Hotel Arena</td>\n      <td>Australia</td>\n      <td>Rooms are nice but for elderly a bit difficul...</td>\n      <td>42</td>\n      <td>1403</td>\n      <td>Location was good and staff were ok It is cut...</td>\n      <td>21</td>\n      <td>9</td>\n      <td>7.1</td>\n      <td>[' Leisure trip ', ' Family with young childre...</td>\n      <td>3 days</td>\n      <td>52.360576</td>\n      <td>4.915968</td>\n    </tr>\n    <tr>\n      <th>3</th>\n      <td>s Gravesandestraat 55 Oost 1092 AA Amsterdam ...</td>\n      <td>194</td>\n      <td>7/31/2017</td>\n      <td>7.7</td>\n      <td>Hotel Arena</td>\n      <td>United Kingdom</td>\n      <td>My room was dirty and I was afraid to walk ba...</td>\n      <td>210</td>\n      <td>1403</td>\n      <td>Great location in nice surroundings the bar a...</td>\n      <td>26</td>\n      <td>1</td>\n      <td>3.8</td>\n      <td>[' Leisure trip ', ' Solo traveler ', ' Duplex...</td>\n      <td>3 days</td>\n      <td>52.360576</td>\n      <td>4.915968</td>\n    </tr>\n    <tr>\n      <th>4</th>\n      <td>s Gravesandestraat 55 Oost 1092 AA Amsterdam ...</td>\n      <td>194</td>\n      <td>7/24/2017</td>\n      <td>7.7</td>\n      <td>Hotel Arena</td>\n      <td>New Zealand</td>\n      <td>You When I booked with your company on line y...</td>\n      <td>140</td>\n      <td>1403</td>\n      <td>Amazing location and building Romantic setting</td>\n      <td>8</td>\n      <td>3</td>\n      <td>6.7</td>\n      <td>[' Leisure trip ', ' Couple ', ' Suite ', ' St...</td>\n      <td>10 days</td>\n      <td>52.360576</td>\n      <td>4.915968</td>\n    </tr>\n  </tbody>\n</table>\n</div>"
     },
     "metadata": {},
     "execution_count": 3
    }
   ],
   "source": [
    "#Displaying the top details of dataset\n",
    "dataset.head()"
   ]
  },
  {
   "cell_type": "code",
   "execution_count": 4,
   "metadata": {},
   "outputs": [
    {
     "output_type": "stream",
     "name": "stdout",
     "text": [
      "['Netherlands' 'UK' 'France' 'Spain' 'Italy' 'Austria']\n"
     ]
    }
   ],
   "source": [
    "#Replacing United Kingdom with UK\n",
    "dataset.Hotel_Address = dataset.Hotel_Address.str.replace(\"United Kingdom\", \"UK\")\n",
    "\n",
    "#Picking up the country name from whole address\n",
    "dataset[\"countries\"] = dataset.Hotel_Address.apply(lambda x: x.split(\" \")[-1])\n",
    "print(dataset.countries.unique())"
   ]
  },
  {
   "cell_type": "code",
   "execution_count": 5,
   "metadata": {},
   "outputs": [],
   "source": [
    "#Droping the unnecessary features\n",
    "\n",
    "dataset.drop(['Additional_Number_of_Scoring',\n",
    "       'Review_Date','Reviewer_Nationality',\n",
    "       'Negative_Review', 'Review_Total_Negative_Word_Counts',\n",
    "       'Total_Number_of_Reviews', 'Positive_Review',\n",
    "       'Review_Total_Positive_Word_Counts',\n",
    "       'Total_Number_of_Reviews_Reviewer_Has_Given', 'Reviewer_Score',\n",
    "       'days_since_review', 'lat', 'lng'],1,inplace=True)"
   ]
  },
  {
   "cell_type": "code",
   "execution_count": 6,
   "metadata": {},
   "outputs": [
    {
     "output_type": "execute_result",
     "data": {
      "text/plain": [
       "                                       Hotel_Address  Average_Score  \\\n",
       "0   s Gravesandestraat 55 Oost 1092 AA Amsterdam ...            7.7   \n",
       "1   s Gravesandestraat 55 Oost 1092 AA Amsterdam ...            7.7   \n",
       "2   s Gravesandestraat 55 Oost 1092 AA Amsterdam ...            7.7   \n",
       "3   s Gravesandestraat 55 Oost 1092 AA Amsterdam ...            7.7   \n",
       "4   s Gravesandestraat 55 Oost 1092 AA Amsterdam ...            7.7   \n",
       "\n",
       "    Hotel_Name                                               Tags    countries  \n",
       "0  Hotel Arena  [' Leisure trip ', ' Couple ', ' Duplex Double...  Netherlands  \n",
       "1  Hotel Arena  [' Leisure trip ', ' Couple ', ' Duplex Double...  Netherlands  \n",
       "2  Hotel Arena  [' Leisure trip ', ' Family with young childre...  Netherlands  \n",
       "3  Hotel Arena  [' Leisure trip ', ' Solo traveler ', ' Duplex...  Netherlands  \n",
       "4  Hotel Arena  [' Leisure trip ', ' Couple ', ' Suite ', ' St...  Netherlands  "
      ],
      "text/html": "<div>\n<style scoped>\n    .dataframe tbody tr th:only-of-type {\n        vertical-align: middle;\n    }\n\n    .dataframe tbody tr th {\n        vertical-align: top;\n    }\n\n    .dataframe thead th {\n        text-align: right;\n    }\n</style>\n<table border=\"1\" class=\"dataframe\">\n  <thead>\n    <tr style=\"text-align: right;\">\n      <th></th>\n      <th>Hotel_Address</th>\n      <th>Average_Score</th>\n      <th>Hotel_Name</th>\n      <th>Tags</th>\n      <th>countries</th>\n    </tr>\n  </thead>\n  <tbody>\n    <tr>\n      <th>0</th>\n      <td>s Gravesandestraat 55 Oost 1092 AA Amsterdam ...</td>\n      <td>7.7</td>\n      <td>Hotel Arena</td>\n      <td>[' Leisure trip ', ' Couple ', ' Duplex Double...</td>\n      <td>Netherlands</td>\n    </tr>\n    <tr>\n      <th>1</th>\n      <td>s Gravesandestraat 55 Oost 1092 AA Amsterdam ...</td>\n      <td>7.7</td>\n      <td>Hotel Arena</td>\n      <td>[' Leisure trip ', ' Couple ', ' Duplex Double...</td>\n      <td>Netherlands</td>\n    </tr>\n    <tr>\n      <th>2</th>\n      <td>s Gravesandestraat 55 Oost 1092 AA Amsterdam ...</td>\n      <td>7.7</td>\n      <td>Hotel Arena</td>\n      <td>[' Leisure trip ', ' Family with young childre...</td>\n      <td>Netherlands</td>\n    </tr>\n    <tr>\n      <th>3</th>\n      <td>s Gravesandestraat 55 Oost 1092 AA Amsterdam ...</td>\n      <td>7.7</td>\n      <td>Hotel Arena</td>\n      <td>[' Leisure trip ', ' Solo traveler ', ' Duplex...</td>\n      <td>Netherlands</td>\n    </tr>\n    <tr>\n      <th>4</th>\n      <td>s Gravesandestraat 55 Oost 1092 AA Amsterdam ...</td>\n      <td>7.7</td>\n      <td>Hotel Arena</td>\n      <td>[' Leisure trip ', ' Couple ', ' Suite ', ' St...</td>\n      <td>Netherlands</td>\n    </tr>\n  </tbody>\n</table>\n</div>"
     },
     "metadata": {},
     "execution_count": 6
    }
   ],
   "source": [
    "dataset.head()"
   ]
  },
  {
   "cell_type": "code",
   "execution_count": 7,
   "metadata": {},
   "outputs": [
    {
     "output_type": "execute_result",
     "data": {
      "text/plain": [
       "                                       Hotel_Address  Average_Score  \\\n",
       "0   s Gravesandestraat 55 Oost 1092 AA Amsterdam ...            7.7   \n",
       "1   s Gravesandestraat 55 Oost 1092 AA Amsterdam ...            7.7   \n",
       "2   s Gravesandestraat 55 Oost 1092 AA Amsterdam ...            7.7   \n",
       "3   s Gravesandestraat 55 Oost 1092 AA Amsterdam ...            7.7   \n",
       "4   s Gravesandestraat 55 Oost 1092 AA Amsterdam ...            7.7   \n",
       "\n",
       "    Hotel_Name                                               Tags    countries  \n",
       "0  Hotel Arena   Leisure trip  Couple  Duplex Double Room  Sta...  Netherlands  \n",
       "1  Hotel Arena   Leisure trip  Couple  Duplex Double Room  Sta...  Netherlands  \n",
       "2  Hotel Arena   Leisure trip  Family with young children  Dup...  Netherlands  \n",
       "3  Hotel Arena   Leisure trip  Solo traveler  Duplex Double Ro...  Netherlands  \n",
       "4  Hotel Arena   Leisure trip  Couple  Suite  Stayed 2 nights ...  Netherlands  "
      ],
      "text/html": "<div>\n<style scoped>\n    .dataframe tbody tr th:only-of-type {\n        vertical-align: middle;\n    }\n\n    .dataframe tbody tr th {\n        vertical-align: top;\n    }\n\n    .dataframe thead th {\n        text-align: right;\n    }\n</style>\n<table border=\"1\" class=\"dataframe\">\n  <thead>\n    <tr style=\"text-align: right;\">\n      <th></th>\n      <th>Hotel_Address</th>\n      <th>Average_Score</th>\n      <th>Hotel_Name</th>\n      <th>Tags</th>\n      <th>countries</th>\n    </tr>\n  </thead>\n  <tbody>\n    <tr>\n      <th>0</th>\n      <td>s Gravesandestraat 55 Oost 1092 AA Amsterdam ...</td>\n      <td>7.7</td>\n      <td>Hotel Arena</td>\n      <td>Leisure trip  Couple  Duplex Double Room  Sta...</td>\n      <td>Netherlands</td>\n    </tr>\n    <tr>\n      <th>1</th>\n      <td>s Gravesandestraat 55 Oost 1092 AA Amsterdam ...</td>\n      <td>7.7</td>\n      <td>Hotel Arena</td>\n      <td>Leisure trip  Couple  Duplex Double Room  Sta...</td>\n      <td>Netherlands</td>\n    </tr>\n    <tr>\n      <th>2</th>\n      <td>s Gravesandestraat 55 Oost 1092 AA Amsterdam ...</td>\n      <td>7.7</td>\n      <td>Hotel Arena</td>\n      <td>Leisure trip  Family with young children  Dup...</td>\n      <td>Netherlands</td>\n    </tr>\n    <tr>\n      <th>3</th>\n      <td>s Gravesandestraat 55 Oost 1092 AA Amsterdam ...</td>\n      <td>7.7</td>\n      <td>Hotel Arena</td>\n      <td>Leisure trip  Solo traveler  Duplex Double Ro...</td>\n      <td>Netherlands</td>\n    </tr>\n    <tr>\n      <th>4</th>\n      <td>s Gravesandestraat 55 Oost 1092 AA Amsterdam ...</td>\n      <td>7.7</td>\n      <td>Hotel Arena</td>\n      <td>Leisure trip  Couple  Suite  Stayed 2 nights ...</td>\n      <td>Netherlands</td>\n    </tr>\n  </tbody>\n</table>\n</div>"
     },
     "metadata": {},
     "execution_count": 7
    }
   ],
   "source": [
    "#Function to convert string of list into normal list and applying on \"Tags\"\n",
    "def convert(column):\n",
    "    column = column[0]\n",
    "    if type(column) != list:\n",
    "        return \"\".join(literal_eval(column))\n",
    "    else:\n",
    "        return column\n",
    "\n",
    "dataset[\"Tags\"] = dataset[[\"Tags\"]].apply(convert , axis = 1)\n",
    "dataset.head()"
   ]
  },
  {
   "cell_type": "code",
   "execution_count": 8,
   "metadata": {},
   "outputs": [],
   "source": [
    "#Lowercasing the tags and country details\n",
    "dataset[\"countries\"] = dataset[\"countries\"].str.lower()\n",
    "dataset[\"Tags\"] = dataset[\"Tags\"].str.lower()"
   ]
  },
  {
   "cell_type": "code",
   "execution_count": 9,
   "metadata": {},
   "outputs": [
    {
     "output_type": "execute_result",
     "data": {
      "text/plain": [
       "                                       Hotel_Address  Average_Score  \\\n",
       "0   s Gravesandestraat 55 Oost 1092 AA Amsterdam ...            7.7   \n",
       "1   s Gravesandestraat 55 Oost 1092 AA Amsterdam ...            7.7   \n",
       "2   s Gravesandestraat 55 Oost 1092 AA Amsterdam ...            7.7   \n",
       "3   s Gravesandestraat 55 Oost 1092 AA Amsterdam ...            7.7   \n",
       "4   s Gravesandestraat 55 Oost 1092 AA Amsterdam ...            7.7   \n",
       "\n",
       "    Hotel_Name                                               Tags    countries  \n",
       "0  Hotel Arena   leisure trip  couple  duplex double room  sta...  netherlands  \n",
       "1  Hotel Arena   leisure trip  couple  duplex double room  sta...  netherlands  \n",
       "2  Hotel Arena   leisure trip  family with young children  dup...  netherlands  \n",
       "3  Hotel Arena   leisure trip  solo traveler  duplex double ro...  netherlands  \n",
       "4  Hotel Arena   leisure trip  couple  suite  stayed 2 nights ...  netherlands  "
      ],
      "text/html": "<div>\n<style scoped>\n    .dataframe tbody tr th:only-of-type {\n        vertical-align: middle;\n    }\n\n    .dataframe tbody tr th {\n        vertical-align: top;\n    }\n\n    .dataframe thead th {\n        text-align: right;\n    }\n</style>\n<table border=\"1\" class=\"dataframe\">\n  <thead>\n    <tr style=\"text-align: right;\">\n      <th></th>\n      <th>Hotel_Address</th>\n      <th>Average_Score</th>\n      <th>Hotel_Name</th>\n      <th>Tags</th>\n      <th>countries</th>\n    </tr>\n  </thead>\n  <tbody>\n    <tr>\n      <th>0</th>\n      <td>s Gravesandestraat 55 Oost 1092 AA Amsterdam ...</td>\n      <td>7.7</td>\n      <td>Hotel Arena</td>\n      <td>leisure trip  couple  duplex double room  sta...</td>\n      <td>netherlands</td>\n    </tr>\n    <tr>\n      <th>1</th>\n      <td>s Gravesandestraat 55 Oost 1092 AA Amsterdam ...</td>\n      <td>7.7</td>\n      <td>Hotel Arena</td>\n      <td>leisure trip  couple  duplex double room  sta...</td>\n      <td>netherlands</td>\n    </tr>\n    <tr>\n      <th>2</th>\n      <td>s Gravesandestraat 55 Oost 1092 AA Amsterdam ...</td>\n      <td>7.7</td>\n      <td>Hotel Arena</td>\n      <td>leisure trip  family with young children  dup...</td>\n      <td>netherlands</td>\n    </tr>\n    <tr>\n      <th>3</th>\n      <td>s Gravesandestraat 55 Oost 1092 AA Amsterdam ...</td>\n      <td>7.7</td>\n      <td>Hotel Arena</td>\n      <td>leisure trip  solo traveler  duplex double ro...</td>\n      <td>netherlands</td>\n    </tr>\n    <tr>\n      <th>4</th>\n      <td>s Gravesandestraat 55 Oost 1092 AA Amsterdam ...</td>\n      <td>7.7</td>\n      <td>Hotel Arena</td>\n      <td>leisure trip  couple  suite  stayed 2 nights ...</td>\n      <td>netherlands</td>\n    </tr>\n  </tbody>\n</table>\n</div>"
     },
     "metadata": {},
     "execution_count": 9
    }
   ],
   "source": [
    "dataset.head()"
   ]
  },
  {
   "cell_type": "code",
   "execution_count": 14,
   "metadata": {},
   "outputs": [],
   "source": [
    "#Function for recommending the hotel\n",
    "def recommended_hotel(location, description):      #Loc and des taken because the recommendation will be based upon the users input\n",
    "    description = description.lower()      #Because the description should match with TAGS in dataset\n",
    "    word_tokenize(description)       #Seprating words from the paragraph\n",
    "    stop_words = stopwords.words(\"english\")       #Ignoring words like \"The\", \"an\", \"a\", \"in\"\n",
    "    lemm = WordNetLemmatizer()  #Creating instance\n",
    "    filtered = [word for word in description if not word in stop_words]   #Passing words to variable which does not come under stopwords\n",
    "    filtered_set = set()     #Assigning filterdset as set()\n",
    "    for fs in filtered:      #For loop\n",
    "        filtered_set.add(lemm.lemmatize(fs))  #Converting word to similar meaning (good = better)\n",
    "    \n",
    "    country = dataset[dataset[\"countries\"] == location.lower()]\n",
    "    country = country.set_index(np.arange(country.shape[0]))\n",
    "    list1 = []; list2 = []; cos = []\n",
    "    for i in range(country.shape[0]):\n",
    "        temp_token = word_tokenize(country[\"Tags\"][i])\n",
    "        temp_set = [word for word in temp_token if not word in stop_words]\n",
    "        temp2_set = set()\n",
    "        for s in temp_set:\n",
    "            temp2_set.add(lemm.lemmatize(s))\n",
    "        vector = temp2_set.intersection(filtered_set)\n",
    "        cos.append(len(vector))\n",
    "    country[\"similarity\"] = cos\n",
    "    country = country.sort_values(by = \"similarity\", ascending = False)\n",
    "    country.drop_duplicates(subset = \"Hotel_Name\", keep = \"first\", inplace = True)\n",
    "    country.sort_values(\"Average_Score\", ascending = False, inplace = True)\n",
    "    country.reset_index(inplace = True)\n",
    "    return country[[\"Hotel_Name\", \"Average_Score\", \"Hotel_Address\"]].head()"
   ]
  },
  {
   "cell_type": "code",
   "execution_count": null,
   "metadata": {},
   "outputs": [],
   "source": [
    "#Netherlands\n",
    "# UK\n",
    "# France\n",
    "# Spain\n",
    "# Italy\n",
    "# Austria"
   ]
  },
  {
   "cell_type": "code",
   "execution_count": 15,
   "metadata": {},
   "outputs": [
    {
     "output_type": "execute_result",
     "data": {
      "text/plain": [
       "                                       Hotel_Name  Average_Score  \\\n",
       "0  Excelsior Hotel Gallia Luxury Collection Hotel            9.4   \n",
       "1           Palazzo Parigi Hotel Grand Spa Milano            9.3   \n",
       "2                          Hotel Spadari Al Duomo            9.3   \n",
       "3                                Room Mate Giulia            9.3   \n",
       "4                               UNA Maison Milano            9.3   \n",
       "\n",
       "                                       Hotel_Address  \n",
       "0  Piazza Duca D Aosta 9 Central Station 20124 Mi...  \n",
       "1  Corso Di Porta Nuova 1 Milan City Center 20121...  \n",
       "2  Via Spadari 11 Milan City Center 20123 Milan I...  \n",
       "3  Silvio Pellico 4 Milan City Center 20121 Milan...  \n",
       "4  Via Mazzini 4 Milan City Center 20123 Milan Italy  "
      ],
      "text/html": "<div>\n<style scoped>\n    .dataframe tbody tr th:only-of-type {\n        vertical-align: middle;\n    }\n\n    .dataframe tbody tr th {\n        vertical-align: top;\n    }\n\n    .dataframe thead th {\n        text-align: right;\n    }\n</style>\n<table border=\"1\" class=\"dataframe\">\n  <thead>\n    <tr style=\"text-align: right;\">\n      <th></th>\n      <th>Hotel_Name</th>\n      <th>Average_Score</th>\n      <th>Hotel_Address</th>\n    </tr>\n  </thead>\n  <tbody>\n    <tr>\n      <th>0</th>\n      <td>Excelsior Hotel Gallia Luxury Collection Hotel</td>\n      <td>9.4</td>\n      <td>Piazza Duca D Aosta 9 Central Station 20124 Mi...</td>\n    </tr>\n    <tr>\n      <th>1</th>\n      <td>Palazzo Parigi Hotel Grand Spa Milano</td>\n      <td>9.3</td>\n      <td>Corso Di Porta Nuova 1 Milan City Center 20121...</td>\n    </tr>\n    <tr>\n      <th>2</th>\n      <td>Hotel Spadari Al Duomo</td>\n      <td>9.3</td>\n      <td>Via Spadari 11 Milan City Center 20123 Milan I...</td>\n    </tr>\n    <tr>\n      <th>3</th>\n      <td>Room Mate Giulia</td>\n      <td>9.3</td>\n      <td>Silvio Pellico 4 Milan City Center 20121 Milan...</td>\n    </tr>\n    <tr>\n      <th>4</th>\n      <td>UNA Maison Milano</td>\n      <td>9.3</td>\n      <td>Via Mazzini 4 Milan City Center 20123 Milan Italy</td>\n    </tr>\n  </tbody>\n</table>\n</div>"
     },
     "metadata": {},
     "execution_count": 15
    }
   ],
   "source": [
    "recommended_hotel('Italy', 'I am going for a business trip')"
   ]
  },
  {
   "cell_type": "code",
   "execution_count": 17,
   "metadata": {},
   "outputs": [
    {
     "output_type": "execute_result",
     "data": {
      "text/plain": [
       "                                     Hotel_Name  Average_Score  \\\n",
       "0                               Haymarket Hotel            9.6   \n",
       "1                                            41            9.6   \n",
       "2  Taj 51 Buckingham Gate Suites and Residences            9.5   \n",
       "3                        Charlotte Street Hotel            9.5   \n",
       "4                                Ham Yard Hotel            9.5   \n",
       "\n",
       "                                       Hotel_Address  \n",
       "0  1 Suffolk Place Westminster Borough London SW1...  \n",
       "1  41 Buckingham Palace Road Westminster Borough ...  \n",
       "2  Buckingham Gate Westminster Borough London SW1...  \n",
       "3  15 17 Charlotte Street Hotel Westminster Borou...  \n",
       "4  One Ham Yard Westminster Borough London W1D 7D...  "
      ],
      "text/html": "<div>\n<style scoped>\n    .dataframe tbody tr th:only-of-type {\n        vertical-align: middle;\n    }\n\n    .dataframe tbody tr th {\n        vertical-align: top;\n    }\n\n    .dataframe thead th {\n        text-align: right;\n    }\n</style>\n<table border=\"1\" class=\"dataframe\">\n  <thead>\n    <tr style=\"text-align: right;\">\n      <th></th>\n      <th>Hotel_Name</th>\n      <th>Average_Score</th>\n      <th>Hotel_Address</th>\n    </tr>\n  </thead>\n  <tbody>\n    <tr>\n      <th>0</th>\n      <td>Haymarket Hotel</td>\n      <td>9.6</td>\n      <td>1 Suffolk Place Westminster Borough London SW1...</td>\n    </tr>\n    <tr>\n      <th>1</th>\n      <td>41</td>\n      <td>9.6</td>\n      <td>41 Buckingham Palace Road Westminster Borough ...</td>\n    </tr>\n    <tr>\n      <th>2</th>\n      <td>Taj 51 Buckingham Gate Suites and Residences</td>\n      <td>9.5</td>\n      <td>Buckingham Gate Westminster Borough London SW1...</td>\n    </tr>\n    <tr>\n      <th>3</th>\n      <td>Charlotte Street Hotel</td>\n      <td>9.5</td>\n      <td>15 17 Charlotte Street Hotel Westminster Borou...</td>\n    </tr>\n    <tr>\n      <th>4</th>\n      <td>Ham Yard Hotel</td>\n      <td>9.5</td>\n      <td>One Ham Yard Westminster Borough London W1D 7D...</td>\n    </tr>\n  </tbody>\n</table>\n</div>"
     },
     "metadata": {},
     "execution_count": 17
    }
   ],
   "source": [
    "recommended_hotel('UK','I am going on a honeymoon, I need a honeymoon suite room for 3 nights')"
   ]
  },
  {
   "cell_type": "code",
   "execution_count": 18,
   "metadata": {},
   "outputs": [
    {
     "output_type": "execute_result",
     "data": {
      "text/plain": [
       "                              Hotel_Name  Average_Score  \\\n",
       "0              Waldorf Astoria Amsterdam            9.5   \n",
       "1                              The Toren            9.4   \n",
       "2  Pillows Anna van den Vondel Amsterdam            9.4   \n",
       "3                            Canal House            9.3   \n",
       "4                Luxury Suites Amsterdam            9.3   \n",
       "\n",
       "                                       Hotel_Address  \n",
       "0  Herengracht 542 556 Amsterdam City Center 1017...  \n",
       "1  Keizersgracht 164 Amsterdam City Center 1015 C...  \n",
       "2  Anna van den Vondelstraat 6 Oud West 1054 GZ A...  \n",
       "3  Keizersgracht 148 Amsterdam City Center 1015 C...  \n",
       "4  Oudeschans 75 Amsterdam City Center 1011 KW Am...  "
      ],
      "text/html": "<div>\n<style scoped>\n    .dataframe tbody tr th:only-of-type {\n        vertical-align: middle;\n    }\n\n    .dataframe tbody tr th {\n        vertical-align: top;\n    }\n\n    .dataframe thead th {\n        text-align: right;\n    }\n</style>\n<table border=\"1\" class=\"dataframe\">\n  <thead>\n    <tr style=\"text-align: right;\">\n      <th></th>\n      <th>Hotel_Name</th>\n      <th>Average_Score</th>\n      <th>Hotel_Address</th>\n    </tr>\n  </thead>\n  <tbody>\n    <tr>\n      <th>0</th>\n      <td>Waldorf Astoria Amsterdam</td>\n      <td>9.5</td>\n      <td>Herengracht 542 556 Amsterdam City Center 1017...</td>\n    </tr>\n    <tr>\n      <th>1</th>\n      <td>The Toren</td>\n      <td>9.4</td>\n      <td>Keizersgracht 164 Amsterdam City Center 1015 C...</td>\n    </tr>\n    <tr>\n      <th>2</th>\n      <td>Pillows Anna van den Vondel Amsterdam</td>\n      <td>9.4</td>\n      <td>Anna van den Vondelstraat 6 Oud West 1054 GZ A...</td>\n    </tr>\n    <tr>\n      <th>3</th>\n      <td>Canal House</td>\n      <td>9.3</td>\n      <td>Keizersgracht 148 Amsterdam City Center 1015 C...</td>\n    </tr>\n    <tr>\n      <th>4</th>\n      <td>Luxury Suites Amsterdam</td>\n      <td>9.3</td>\n      <td>Oudeschans 75 Amsterdam City Center 1011 KW Am...</td>\n    </tr>\n  </tbody>\n</table>\n</div>"
     },
     "metadata": {},
     "execution_count": 18
    }
   ],
   "source": [
    "recommended_hotel(\"Netherlands\", \"I am going for a business trip\")"
   ]
  },
  {
   "cell_type": "code",
   "execution_count": 19,
   "metadata": {},
   "outputs": [
    {
     "output_type": "execute_result",
     "data": {
      "text/plain": [
       "               Hotel_Name  Average_Score  \\\n",
       "0   H10 Casa Mimosa 4 Sup            9.6   \n",
       "1        Hotel The Serras            9.6   \n",
       "2       Hotel Casa Camper            9.6   \n",
       "3  Mercer Hotel Barcelona            9.5   \n",
       "4    Catalonia Magdalenes            9.4   \n",
       "\n",
       "                                       Hotel_Address  \n",
       "0      Pau Claris 179 Eixample 08037 Barcelona Spain  \n",
       "1  Passeig de Colom 9 Ciutat Vella 08002 Barcelon...  \n",
       "2    Elisabets 11 Ciutat Vella 08001 Barcelona Spain  \n",
       "3    Dels Lledo 7 Ciutat Vella 08003 Barcelona Spain  \n",
       "4  Magdalenes 13 15 Ciutat Vella 08002 Barcelona ...  "
      ],
      "text/html": "<div>\n<style scoped>\n    .dataframe tbody tr th:only-of-type {\n        vertical-align: middle;\n    }\n\n    .dataframe tbody tr th {\n        vertical-align: top;\n    }\n\n    .dataframe thead th {\n        text-align: right;\n    }\n</style>\n<table border=\"1\" class=\"dataframe\">\n  <thead>\n    <tr style=\"text-align: right;\">\n      <th></th>\n      <th>Hotel_Name</th>\n      <th>Average_Score</th>\n      <th>Hotel_Address</th>\n    </tr>\n  </thead>\n  <tbody>\n    <tr>\n      <th>0</th>\n      <td>H10 Casa Mimosa 4 Sup</td>\n      <td>9.6</td>\n      <td>Pau Claris 179 Eixample 08037 Barcelona Spain</td>\n    </tr>\n    <tr>\n      <th>1</th>\n      <td>Hotel The Serras</td>\n      <td>9.6</td>\n      <td>Passeig de Colom 9 Ciutat Vella 08002 Barcelon...</td>\n    </tr>\n    <tr>\n      <th>2</th>\n      <td>Hotel Casa Camper</td>\n      <td>9.6</td>\n      <td>Elisabets 11 Ciutat Vella 08001 Barcelona Spain</td>\n    </tr>\n    <tr>\n      <th>3</th>\n      <td>Mercer Hotel Barcelona</td>\n      <td>9.5</td>\n      <td>Dels Lledo 7 Ciutat Vella 08003 Barcelona Spain</td>\n    </tr>\n    <tr>\n      <th>4</th>\n      <td>Catalonia Magdalenes</td>\n      <td>9.4</td>\n      <td>Magdalenes 13 15 Ciutat Vella 08002 Barcelona ...</td>\n    </tr>\n  </tbody>\n</table>\n</div>"
     },
     "metadata": {},
     "execution_count": 19
    }
   ],
   "source": [
    "recommended_hotel(\"Spain\", \"I am going for bachelor trip for 4 night\")"
   ]
  },
  {
   "cell_type": "code",
   "execution_count": null,
   "metadata": {},
   "outputs": [],
   "source": []
  }
 ]
}